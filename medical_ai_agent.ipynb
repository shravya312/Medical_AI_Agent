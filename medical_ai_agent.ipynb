{
 "cells": [
  {
   "cell_type": "code",
   "execution_count": 15,
   "id": "1f36ae23",
   "metadata": {},
   "outputs": [],
   "source": [
    "import os\n",
    "import getpass\n",
    "from dotenv import load_dotenv\n",
    "\n",
    "from langgraph.graph import StateGraph, END\n",
    "from langchain_google_genai import ChatGoogleGenerativeAI\n",
    "from langchain_core.messages import HumanMessage\n",
    "\n",
    "# Load environment variables from .env file\n",
    "load_dotenv()\n",
    "\n",
    "# Get Google API key from .env\n",
    "google_api_key = os.getenv(\"GOOGLE_API_KEY\")\n",
    "\n",
    "# Optional: Check if loaded\n",
    "if not google_api_key:\n",
    "    raise ValueError(\"GOOGLE_API_KEY not found in .env file\")"
   ]
  },
  {
   "cell_type": "code",
   "execution_count": 16,
   "id": "970ea356",
   "metadata": {},
   "outputs": [],
   "source": [
    "llm=ChatGoogleGenerativeAI(\n",
    "    model=\"gemini-1.5-flash-latest\",\n",
    "    api_key=google_api_key,\n",
    "    temperature=0.2)"
   ]
  },
  {
   "cell_type": "code",
   "execution_count": 17,
   "id": "3f24eea5",
   "metadata": {},
   "outputs": [],
   "source": [
    "def get_symptoms(state: dict)->dict:\n",
    "    symptom=input(\"Welcome to Appolo Hospital, Please enter your symptoms: \")\n",
    "    state[\"symptoms\"]=symptom\n",
    "    return state"
   ]
  },
  {
   "cell_type": "code",
   "execution_count": 18,
   "id": "771d166e",
   "metadata": {},
   "outputs": [],
   "source": [
    "def classify_symptom(state: dict) -> dict:\n",
    "    prompt = (\n",
    "        \"You are a helpful Medical Assistant, Classify the symptoms below into one of the categories \\n\"\n",
    "        \"-General\\n -Emergency \\n -mental health \\n\"\n",
    "        f\"Symptom : {state['symptom']} \\n\"\n",
    "        \"Respond only with one word : General, Emergency Or Mental Health\"\n",
    "        # \"Example : input : I have fever, Output : General\"\n",
    "    )\n",
    "    response = llm.invoke([HumanMessage(content=prompt)])\n",
    "    category=response.content.strip()\n",
    "    print(f\"LLM classifies the symptom as: {category}\")\n",
    "    state[\"category\"] = category\n",
    "    return state\n",
    "    "
   ]
  },
  {
   "cell_type": "code",
   "execution_count": 19,
   "id": "add411a6",
   "metadata": {},
   "outputs": [],
   "source": [
    "def symptom_router(state: dict) -> dict:\n",
    "    cat = state[\"category\"].lower()\n",
    "    if \"general\" in cat:\n",
    "        return \"general\"\n",
    "    elif \"emergency\" in cat:\n",
    "        return \"emergency\"\n",
    "    elif \"mental\" in cat:\n",
    "        return \"mental_health\"\n",
    "    else:\n",
    "        return \"general\""
   ]
  },
  {
   "cell_type": "code",
   "execution_count": 20,
   "id": "40fd1856",
   "metadata": {},
   "outputs": [],
   "source": [
    "def general_node(state: dict) -> dict:\n",
    "    state[\"answer\"] = f\" {state['symptom']} : seems general : directing you to general ward for consulting a doctor\"\n",
    "    return state\n",
    "\n",
    "def emergency_node(state: dict) -> dict:\n",
    "    state[\"answer\"] = f\" {state['symptom']} : it is a Medical Emergency : seeking immediate help\"\n",
    "    return state\n",
    "\n",
    "def mental_health_node(state: dict) -> dict:\n",
    "    state[\"answer\"] = f\" {state['symptom']}: seems like a medical health issue; talk to our counsellor\"\n",
    "    return state"
   ]
  }
 ],
 "metadata": {
  "kernelspec": {
   "display_name": ".venv",
   "language": "python",
   "name": "python3"
  },
  "language_info": {
   "codemirror_mode": {
    "name": "ipython",
    "version": 3
   },
   "file_extension": ".py",
   "mimetype": "text/x-python",
   "name": "python",
   "nbconvert_exporter": "python",
   "pygments_lexer": "ipython3",
   "version": "3.11.5"
  }
 },
 "nbformat": 4,
 "nbformat_minor": 5
}
