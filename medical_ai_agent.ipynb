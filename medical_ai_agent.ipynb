{
 "cells": [
  {
   "cell_type": "code",
   "execution_count": 110,
   "id": "1f36ae23",
   "metadata": {},
   "outputs": [],
   "source": [
    "import os\n",
    "import getpass\n",
    "from dotenv import load_dotenv\n",
    "\n",
    "from langgraph.graph import StateGraph, END\n",
    "from langchain_google_genai import ChatGoogleGenerativeAI\n",
    "from langchain_core.messages import HumanMessage\n",
    "\n",
    "# Load environment variables from .env file\n",
    "load_dotenv()\n",
    "\n",
    "# Get Google API key from .env\n",
    "google_api_key = os.getenv(\"GOOGLE_API_KEY\")\n",
    "\n",
    "# Optional: Check if loaded\n",
    "if not google_api_key:\n",
    "    raise ValueError(\"GOOGLE_API_KEY not found in .env file\")"
   ]
  },
  {
   "cell_type": "code",
   "execution_count": 111,
   "id": "970ea356",
   "metadata": {},
   "outputs": [],
   "source": [
    "llm=ChatGoogleGenerativeAI(\n",
    "    model=\"gemini-1.5-flash-latest\",\n",
    "    api_key=google_api_key,\n",
    "    temperature=0.2)"
   ]
  },
  {
   "cell_type": "code",
   "execution_count": 112,
   "id": "3f24eea5",
   "metadata": {},
   "outputs": [],
   "source": [
    "def get_symptoms(state: dict)->dict:\n",
    "    symptom=input(\"Welcome to Apollo Hospital, Please enter your symptoms: \")\n",
    "    state[\"symptom\"]=symptom\n",
    "    return state"
   ]
  },
  {
   "cell_type": "code",
   "execution_count": null,
   "id": "771d166e",
   "metadata": {},
   "outputs": [],
   "source": [
    "def classify_symptom(state: dict) -> dict:\n",
    "    prompt = (\n",
    "        \"You are a helpful Medical Assistant, Classify the symptoms below into one of the categories \\n\"\n",
    "        \"-General\\n -Emergency \\n -mental health \\n\"\n",
    "        f\"Symptom : {state['symptom']} \\n\"\n",
    "        \"Respond only with one word : General, Emergency Or Mental Health\"\n",
    "        # \"Example : input : I have fever, Output : General\"\n",
    "    )\n",
    "    response = llm.invoke([HumanMessage(content=prompt)])\n",
    "    category=response.content.strip()\n",
    "    # Removed print statement to avoid duplicate output\n",
    "    state[\"category\"] = category\n",
    "    return state"
   ]
  },
  {
   "cell_type": "code",
   "execution_count": 114,
   "id": "add411a6",
   "metadata": {},
   "outputs": [],
   "source": [
    "def symptom_router(state: dict) -> dict:\n",
    "    cat = state[\"category\"].lower()\n",
    "    if \"general\" in cat:\n",
    "        return \"general\"\n",
    "    elif \"emergency\" in cat:\n",
    "        return \"emergency\"\n",
    "    elif \"mental\" in cat:\n",
    "        return \"mental_health\"\n",
    "    else:\n",
    "        return \"general\""
   ]
  },
  {
   "cell_type": "code",
   "execution_count": 115,
   "id": "40fd1856",
   "metadata": {},
   "outputs": [],
   "source": [
    "def general_node(state: dict) -> dict:\n",
    "    state[\"answer\"] = f\" {state['symptom']} : seems general : directing you to general ward for consulting a doctor\"\n",
    "    return state\n",
    "\n",
    "def emergency_node(state: dict) -> dict:\n",
    "    state[\"answer\"] = f\" {state['symptom']} : it is a Medical Emergency : seeking immediate help\"\n",
    "    return state\n",
    "\n",
    "def mental_health_node(state: dict) -> dict:\n",
    "    state[\"answer\"] = f\" {state['symptom']}: seems like a mental health issue; talk to our counsellor\"\n",
    "    return state"
   ]
  },
  {
   "cell_type": "code",
   "execution_count": 116,
   "id": "151e86fd",
   "metadata": {},
   "outputs": [
    {
     "data": {
      "text/plain": [
       "<langgraph.graph.state.StateGraph at 0x20261e73f50>"
      ]
     },
     "execution_count": 116,
     "metadata": {},
     "output_type": "execute_result"
    }
   ],
   "source": [
    "builder = StateGraph(dict)\n",
    "\n",
    "#define the nodes\n",
    "builder.set_entry_point(\"get_symptoms\")\n",
    "builder.add_node(\"get_symptoms\", get_symptoms)\n",
    "builder.add_node(\"classify\", classify_symptom)\n",
    "builder.add_node(\"general\", general_node)\n",
    "builder.add_node(\"emergency\", emergency_node)\n",
    "builder.add_node(\"mental_health\", mental_health_node)\n",
    "builder.add_edge(\"get_symptoms\", \"classify\")\n",
    "builder.add_conditional_edges(\n",
    "    \"classify\",\n",
    "    symptom_router,\n",
    "    {\n",
    "        \"general\": \"general\",\n",
    "        \"emergency\": \"emergency\",\n",
    "        \"mental_health\": \"mental_health\"\n",
    "    }\n",
    ")\n",
    "builder.add_edge(\"general\", END)\n",
    "builder.add_edge(\"emergency\", END)\n",
    "builder.add_edge(\"mental_health\", END)"
   ]
  },
  {
   "cell_type": "markdown",
   "id": "7c902dc3",
   "metadata": {},
   "source": [
    "Left: Router function output\n",
    "Right: Target node name"
   ]
  },
  {
   "cell_type": "code",
   "execution_count": 128,
   "id": "5a17dd99",
   "metadata": {},
   "outputs": [
    {
     "name": "stdout",
     "output_type": "stream",
     "text": [
      "LLM classifies the symptom as: General\n",
      "\n",
      "Final Response:  fever : seems general : directing you to general ward for consulting a doctor\n"
     ]
    }
   ],
   "source": [
    "graph = builder.compile()\n",
    "final_state = graph.invoke({})\n",
    "print(f\"\\nFinal Response: {final_state['answer']}\")"
   ]
  }
 ],
 "metadata": {
  "kernelspec": {
   "display_name": ".venv",
   "language": "python",
   "name": "python3"
  },
  "language_info": {
   "codemirror_mode": {
    "name": "ipython",
    "version": 3
   },
   "file_extension": ".py",
   "mimetype": "text/x-python",
   "name": "python",
   "nbconvert_exporter": "python",
   "pygments_lexer": "ipython3",
   "version": "3.11.5"
  }
 },
 "nbformat": 4,
 "nbformat_minor": 5
}
